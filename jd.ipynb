{
 "cells": [
  {
   "cell_type": "code",
   "execution_count": null,
   "metadata": {},
   "outputs": [],
   "source": [
    "import json\n",
    "from xml.etree import ElementTree as ET\n",
    "\n",
    "def process_value(element, key, value):\n",
    "    \"\"\"Recursively process a value and add it to an XML element as text, attributes, or child elements.\"\"\"\n",
    "    if isinstance(value, dict):\n",
    "        # If the value is a dictionary, create child elements for each key-value pair\n",
    "        for subkey, subvalue in value.items():\n",
    "            subelement = ET.SubElement(element, subkey)\n",
    "            process_value(subelement, subkey, subvalue)\n",
    "    elif isinstance(value, list):\n",
    "        # If the value is a list, create child elements for each item in the list\n",
    "        for item in value:\n",
    "            subelement = ET.SubElement(element, key)\n",
    "            process_value(subelement, key, item)\n",
    "    elif isinstance(value, int):\n",
    "        # If the value is an integer, add it as an attribute\n",
    "        element.set(key, str(value))\n",
    "    else:\n",
    "        # Otherwise, add the value as text\n",
    "        element.text = value\n",
    "\n",
    "# Open the JSON file and parse the contents\n",
    "with open('file.json', 'r') as f:\n",
    "    data = json.load(f)\n",
    "\n",
    "# Create the XML root element\n",
    "root = ET.Element('root')\n",
    "\n",
    "# Iterate through the list of dictionaries\n",
    "for item in data:\n",
    "    # Create a new element for each dictionary\n",
    "    element = ET.SubElement(root, 'item')\n",
    "    # Iterate through the key-value pairs in the dictionary\n",
    "    for key, value in item.items():\n",
    "        process_value(element, key, value)\n",
    "\n",
    "# Write the XML tree to a file\n",
    "tree = ET.ElementTree(root)\n",
    "tree.write('file.xml')\n"
   ]
  }
 ],
 "metadata": {
  "kernelspec": {
   "display_name": "env",
   "language": "python",
   "name": "python3"
  },
  "language_info": {
   "codemirror_mode": {
    "name": "ipython",
    "version": 3
   },
   "file_extension": ".py",
   "mimetype": "text/x-python",
   "name": "python",
   "nbconvert_exporter": "python",
   "pygments_lexer": "ipython3",
   "version": "3.10.8 (tags/v3.10.8:aaaf517, Oct 11 2022, 16:50:30) [MSC v.1933 64 bit (AMD64)]"
  },
  "orig_nbformat": 4,
  "vscode": {
   "interpreter": {
    "hash": "87f9aa158ec7413d5eeda34a7b4840a9ccd8610795333ba50651b9207912bbb0"
   }
  }
 },
 "nbformat": 4,
 "nbformat_minor": 2
}
